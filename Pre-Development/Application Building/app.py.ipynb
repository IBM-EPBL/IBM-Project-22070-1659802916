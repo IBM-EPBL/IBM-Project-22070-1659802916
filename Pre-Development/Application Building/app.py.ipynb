{
 "cells": [
  {
   "cell_type": "code",
   "execution_count": null,
   "id": "9f08dec1",
   "metadata": {},
   "outputs": [
    {
     "name": "stdout",
     "output_type": "stream",
     "text": [
      " * Serving Flask app \"__main__\" (lazy loading)\n",
      " * Environment: production\n",
      "\u001b[31m   WARNING: This is a development server. Do not use it in a production deployment.\u001b[0m\n",
      "\u001b[2m   Use a production WSGI server instead.\u001b[0m\n",
      " * Debug mode: off\n"
     ]
    },
    {
     "name": "stderr",
     "output_type": "stream",
     "text": [
      " * Running on http://127.0.0.1:5000/ (Press CTRL+C to quit)\n"
     ]
    }
   ],
   "source": [
    "#TEAM ID:PNT2022TMID04381\n",
    "#PROJECT: Early Detection of Chronic Kidney Disease Using Machine Learning\n",
    "\n",
    "from flask import Flask, render_template, request\n",
    "import numpy as np\n",
    "import pickle\n",
    "\n",
    "\n",
    "app = Flask(__name__)\n",
    "model = pickle.load(open('Kidney.pkl', 'rb'))\n",
    "\n",
    "@app.route('/',methods=['GET'])\n",
    "def Home():\n",
    "    return render_template('index.html')\n",
    "\n",
    "@app.route(\"/predict\", methods=['POST'])\n",
    "def predict():\n",
    "    if request.method == 'POST':\n",
    "        sg = float(request.form['sg'])\n",
    "        htn = float(request.form['htn'])\n",
    "        hemo = float(request.form['hemo'])\n",
    "        dm = float(request.form['dm'])\n",
    "        al = float(request.form['al'])\n",
    "        appet = float(request.form['appet'])\n",
    "        rc = float(request.form['rc'])\n",
    "        pc = float(request.form['pc'])\n",
    "\n",
    "        values = np.array([[sg, htn, hemo, dm, al, appet, rc, pc]])\n",
    "        prediction = model.predict(values)\n",
    "\n",
    "        return render_template('result.html', prediction=prediction)\n",
    "\n",
    "\n",
    "if __name__ == \"__main__\":\n",
    "    app.debug=True\n",
    "    app.run(debug=False)\n"
   ]
  },
  {
   "cell_type": "code",
   "execution_count": null,
   "id": "1a9ae90e",
   "metadata": {},
   "outputs": [],
   "source": []
  }
 ],
 "metadata": {
  "kernelspec": {
   "display_name": "Python 3 (ipykernel)",
   "language": "python",
   "name": "python3"
  },
  "language_info": {
   "codemirror_mode": {
    "name": "ipython",
    "version": 3
   },
   "file_extension": ".py",
   "mimetype": "text/x-python",
   "name": "python",
   "nbconvert_exporter": "python",
   "pygments_lexer": "ipython3",
   "version": "3.9.12"
  }
 },
 "nbformat": 4,
 "nbformat_minor": 5
}
